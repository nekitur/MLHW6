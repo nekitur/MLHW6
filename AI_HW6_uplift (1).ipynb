{
  "cells": [
    {
      "cell_type": "markdown",
      "metadata": {
        "id": "view-in-github"
      },
      "source": [
        "<a href=\"https://colab.research.google.com/github/Murcha1990/ML_AI24/blob/main/Hometasks/Base/AI_HW6_uplift.ipynb\" target=\"_parent\"><img src=\"https://colab.research.google.com/assets/colab-badge.svg\" alt=\"Open In Colab\"/></a>"
      ]
    },
    {
      "cell_type": "markdown",
      "metadata": {
        "id": "5UxZHx_r25YA"
      },
      "source": [
        "<h1> Задание по Uplift-моделированию </h1>"
      ]
    },
    {
      "cell_type": "markdown",
      "metadata": {
        "id": "r1LJ_Q4k25YB"
      },
      "source": [
        "<h2>Введение</h2>"
      ]
    },
    {
      "cell_type": "markdown",
      "metadata": {
        "id": "EiEmEZgQ25YC"
      },
      "source": [
        "Перед вами типичная задача, возникающая при работе с моделями кампейнинга в банке: заказчик запустил несколько пилотов по взаимодействию с клиентами с помощью разных каналов: push в мобильном приложении, sms, баннеры в мобильном приложении и реклама в других приложениях экосистемы. Заказчик хотел бы понимать, какой канал взаимодействия с клиентом наиболее эффективен для каждого клиента из клиентской базы. Кампании планируются и запускаются в ежемесячном режиме. Иными словами, заказчик хотел бы в идеале ежемесячно получать список клиентов, которым необходимо отправить коммуникацию с указанием канала и прироста вероятности покупки в случае, если клиенту отправят коммуникацию по сравнению с тем случаем, когда клиенту коммуникацию не отправят."
      ]
    },
    {
      "cell_type": "markdown",
      "metadata": {
        "id": "aLgfZIiN25YC"
      },
      "source": [
        "<b>Таким образом: </b>\n",
        "1.\tУ нас есть база клиентов (клиенты, имеющие id в банке). По данной базе осуществляется рассылка тех или иных стимулирующих коммуникаций по различным продуктам, каналам (например SMS, Push, баннеры в мобильном приложении и т.д.) и сегментам клиентов\n",
        "2.\tПризнаковое описание клиента состоит из различных агрегатов действий клиента за месяц или его объективных характеристик: например, средняя сумма средств на депозитах за месяц, среднее число кликов клиента в день за месяц в разделе \"инвестиции\" в мобильном приложении или возраст клиента\n",
        "3.\tПри формировании обучающей/тестовой выборки допускается, что один и тот же клиент за разные месяцы — это разные объекты. То есть допускается, что клиент в феврале и клиент в марте — это разные клиенты (то есть мы можем оперировать с ними как с разными сущностями).\n",
        "4.\tАгрегаты действий клиента за месяц появляются примерно 10 числа следующего месяца. То есть, например, агрегаты за декабрь появляются 10 января. В свою очередь списки клиентов, которым необходимо осуществить рассылку должны быть сформированы ориентировочно 20 числа предыдущего месяца. Таким образом, <b> модель должна быть обучена делать предсказания с лагом в два месяца </b>, то есть должна делать предсказание на март по клиентским агрегатам за январь. Обязательно учтите это при обучении модели (в противном случае можно получить лик таргета, так как часто величину, которую мы предсказываем уже есть в клиентских агрегатах, но смещенная на два месяца).\n"
      ]
    },
    {
      "cell_type": "markdown",
      "metadata": {
        "id": "r5VaIQxhMkn_"
      },
      "source": [
        "## Оценивание задания:\n",
        "\n",
        "Всего за задание можно получить 50 первичных баллов, которые затем переводятся в 10-балльную шкалу делением не 5."
      ]
    },
    {
      "cell_type": "markdown",
      "metadata": {
        "id": "D5LqU8fw76ML"
      },
      "source": [
        "Скачаем архив с данными по ссылке и разархивируем."
      ]
    },
    {
      "cell_type": "code",
      "execution_count": 1,
      "metadata": {
        "id": "XwBqYVxY6tY-"
      },
      "outputs": [],
      "source": [
        "!pip install gdown -q"
      ]
    },
    {
      "cell_type": "code",
      "execution_count": 2,
      "metadata": {
        "colab": {
          "base_uri": "https://localhost:8080/",
          "height": 122
        },
        "id": "yBGQKvlF6vU3",
        "outputId": "9eb33905-0bba-45be-c7ec-175539533451"
      },
      "outputs": [
        {
          "name": "stderr",
          "output_type": "stream",
          "text": [
            "Downloading...\n",
            "From (original): https://drive.google.com/uc?id=19nKGaxm3RwHxh2UWPo537_-MDx21AkHO\n",
            "From (redirected): https://drive.google.com/uc?id=19nKGaxm3RwHxh2UWPo537_-MDx21AkHO&confirm=t&uuid=be25b41d-6552-418c-8fb5-2e6ed5b24ff9\n",
            "To: /content/Data.zip\n",
            "100%|██████████| 289M/289M [00:09<00:00, 29.1MB/s]\n"
          ]
        },
        {
          "data": {
            "application/vnd.google.colaboratory.intrinsic+json": {
              "type": "string"
            },
            "text/plain": [
              "'Data.zip'"
            ]
          },
          "execution_count": 2,
          "metadata": {},
          "output_type": "execute_result"
        }
      ],
      "source": [
        "import gdown\n",
        "\n",
        "url = 'https://drive.google.com/uc?id=19nKGaxm3RwHxh2UWPo537_-MDx21AkHO'\n",
        "output = 'Data.zip'\n",
        "gdown.download(url, output, quiet=False)"
      ]
    },
    {
      "cell_type": "code",
      "execution_count": 3,
      "metadata": {
        "id": "I-5it8TG7ayV"
      },
      "outputs": [],
      "source": [
        "import zipfile\n",
        "\n",
        "with zipfile.ZipFile('Data.zip', 'r') as zip_ref:\n",
        "    zip_ref.extractall('/content/')"
      ]
    },
    {
      "cell_type": "markdown",
      "metadata": {
        "id": "l9G5oeYo25YD"
      },
      "source": [
        "<h2>Описание данных</h2>"
      ]
    },
    {
      "cell_type": "markdown",
      "metadata": {
        "id": "LfuaYa-y25YD"
      },
      "source": [
        "Перед вами несколько наборов данных, на основе которых вам будет необходимо обучить Uplift модели, сделать прогноз на нужный месяц и решить, кому из клиентов отправлять коммуникацию, а кому коммуникацию отправлять не следует."
      ]
    },
    {
      "cell_type": "markdown",
      "metadata": {
        "id": "DRjowlnH25YD"
      },
      "source": [
        "<h3>Features </h3> Признаки клиентов, клиентские агрегаты, которые описывают поведение клиентов <br>\n",
        "\n",
        "1. user_id - id клиента\n",
        "2. report_dt - месяц, на который актуальны признаки\n",
        "3. city - город, в котором живет клиент\n",
        "4. age - возраст клиента\n",
        "5. x1 – x9 - числовые признаки клиента, характеризующие поведение клиента\n",
        "\n",
        "Первичный ключ таблицы - user_id + report_dt"
      ]
    },
    {
      "cell_type": "markdown",
      "metadata": {
        "id": "2rJL_Hku25YD"
      },
      "source": [
        "<h3> Contracts </h3> Таблица с покупками продуктов.\n",
        "\n",
        "1. contract_id - id покупки\n",
        "2. user_id - id пользователя, который совершил покупку\n",
        "3. product_id - id продукта, который был куплен\n",
        "4. contract_ts – дата момента, когда была совершена покупка\n",
        "\n",
        "Первичный ключ - contract_id\n"
      ]
    },
    {
      "cell_type": "markdown",
      "metadata": {
        "id": "2TqZalUD25YE"
      },
      "source": [
        "<h3> Campaings </h3> Кампании, которые проводились (под кампанией мы понимаем рассылку sms, push и т.д).\n",
        "\n",
        "1. campaing_id - id кампании, первичный ключ таблицы\n",
        "2. product_id - продукт, по которому проводилась кампания (считаем, что продукты не конкурируют друг с другом)\n",
        "3. channel - канал, в котором проводилась кампания\n"
      ]
    },
    {
      "cell_type": "markdown",
      "metadata": {
        "id": "np7t4WiP25YE"
      },
      "source": [
        "<h3> People_in_campaings </h3> Люди, которые принимали участие в кампаниях.\n",
        "\n",
        "1. campaing_id - id кампании\n",
        "2. user_id - id пользователя, который попал в кампанию\n",
        "3. флаг целевой (1) и контрольной (0) группы (целевая группа - это те, кто получил коммуникацию, а контрольная - те, кто нет)\n",
        "4. delivery_ts - timestamp, когда клиенту фактически была доставлена коммуникация (для контрольной группы nan, подумайте почему)\n",
        "\n",
        "Первичный ключ данной таблицы - user_id + campaing_id\n"
      ]
    },
    {
      "cell_type": "markdown",
      "metadata": {
        "id": "C03ITf9d25YE"
      },
      "source": [
        "<h3> Contracts </h3> Таблица с покупками продуктов\n",
        "\n",
        "1. contract_id - id покупки\n",
        "2. user_id - id пользователя, который совершил покупку\n",
        "3. product_id - id продукта, который был куплен\n",
        "4. contract_ts – дата момента, когда была совершена покупка\n",
        "\n",
        "Первичный ключ - contract_id\n"
      ]
    },
    {
      "cell_type": "markdown",
      "metadata": {
        "id": "X13DQ-BZ25YE"
      },
      "source": [
        "<h1> Постановка задачи </h1> В ноябре 2024 проводилось несколько кампаний по продукту с id 0001 (фактически клиенту рассылалось одно и тоже сообщение, но в разных каналах). Вам необходимо по данным кампаниям построить модель, которая будет определять лучший канал коммуникации каждого клиента и определить, кому из клиентов в марте 2025 отправить какую коммуникацию, а кому коммуникацию вообще отправлять не следует.\n",
        "Ответ нужно представить в следующем виде (report_dt – дата фичей):"
      ]
    },
    {
      "cell_type": "markdown",
      "metadata": {
        "id": "PARzVwDJ25YE"
      },
      "source": [
        "<table>\n",
        "  <thead>\n",
        "    <tr>\n",
        "      <th>user_id</th>\n",
        "      <th>report_dt</th>\n",
        "      <th>channel</th>\n",
        "      <th>uplift</th>\n",
        "    </tr>\n",
        "  </thead>\n",
        "  <tbody>\n",
        "    <tr>\n",
        "      <td>10045</td>\n",
        "      <td>2025-01-31</td>\n",
        "      <td>banner</td>\n",
        "      <td>0.07</td>\n",
        "    </tr>\n",
        "    <tr>\n",
        "      <td>10046</td>\n",
        "      <td>2025-01-31</td>\n",
        "      <td>no_comm</td>\n",
        "      <td>0.00</td>\n",
        "    </tr>\n",
        "    <tr>\n",
        "      <td>10047</td>\n",
        "      <td>2025-01-31</td>\n",
        "      <td>sms</td>\n",
        "      <td>0.23</td>\n",
        "    </tr>\n",
        "    <tr>\n",
        "      <td>10048</td>\n",
        "      <td>2025-01-31</td>\n",
        "      <td>push</td>\n",
        "      <td>0.19</td>\n",
        "    </tr>\n",
        "  </tbody>\n",
        "</table>"
      ]
    },
    {
      "cell_type": "markdown",
      "metadata": {
        "id": "m88lnhDN25YE"
      },
      "source": [
        "<h1> Декомпозиция задачи </h1>"
      ]
    },
    {
      "cell_type": "markdown",
      "metadata": {
        "id": "9NIZb-Ln25YE"
      },
      "source": [
        "<h2> 1.\tСбор и анализ таргета (18 баллов)</h2>"
      ]
    },
    {
      "cell_type": "markdown",
      "metadata": {
        "id": "rh9PtKOB25YF"
      },
      "source": [
        "Прежде всего, вам необходимо собрать целевое событие, которое вы собираетесь прогнозировать. В данном случае целевое событие - это покупка продукта 0001 пользователем, участвовавшем в кампании. Обратите внимание, что не все пользователи получают коммуникацию одновременно (delivery_ts в таблице People_in_campaings). Согласно правилу, согласованному с заказчиком, <b> человек из целевой группы купил продукт после коммуникации - это значит, что он купил его в течение 2х недель после получения сообщения, а человек из контрольной - в течение 3х недель с момента старта кампании (старт кампании - начало месяца). </b> То есть для определенной кампании, для каждого клиента, попавшего в кампанию, вам надо будет найти его покупки данного продукта, а потом основываяся на данном правиле превратить покупки в 0 или 1. <br> На выходе у вас должен появиться таблица с целевым действием для каждого канала (колонки client_id, report_dt,  target), где таргет - это бинарная переменная (0 или 1). Колонка report_dt вам нужна как техническая колонка для дальнейших джоинов.<br><br>\n",
        "\n",
        "Проведите анализ полученных данных (до присоединения клиентских агрегатов). Какие проблемы и сложности в данных вы обнаружили? Что с ними можно сделать? Какая из кампаний наиболее эффективная? Подготовьте выводы по полученным инсайтам.\n"
      ]
    },
    {
      "cell_type": "markdown",
      "metadata": {
        "id": "tSZt8rI5DQFu"
      },
      "source": [
        "**Комментарий по заданиям и оцениванию:**\n",
        "\n",
        "* Вы должны самостоятельно сделать join нескольких таблиц, самостоятельно собрать целевое действие\n",
        "\n",
        "* Представлены 4 различных канала, за таргет по каждому из каналов можно получить **максимум 2 балла**:\n",
        "    * 1 балл за то, что просчитано целевое действие для целевой группы (покупка в\n",
        "течение одной-двух недель с момента получения коммуникации)\n",
        "    * 1 балл за то, что просчитано целевое действие для контрольной группы (покупка в течение двух-трех недель с момента старта кампании) и сделана таблица в требуемом формате\n",
        "\n",
        "* Обратите внимание, что не во всех кампаниях содержатся корректные данные для проведения моделирования, и вам необходимо провести анализ данных и в случае выявленных некорректностей - описать их, и не проводить моделирование для \"сломанной\" кампании  \n",
        "    * За данный анализ можно получить **8 баллов**\n",
        "\n",
        "* Вы должны оценить эффективность кампаний по uplift (cреднее значение таргета в целевой минус среднее значение таргета в контрольной группе)\n",
        "    * За данный анализ можно получить **2 балла**"
      ]
    },
    {
      "cell_type": "code",
      "execution_count": null,
      "metadata": {
        "colab": {
          "base_uri": "https://localhost:8080/"
        },
        "id": "4simqywtvtiM",
        "outputId": "02a082d0-b770-4d36-b75a-7ec70717205e"
      },
      "outputs": [
        {
          "name": "stdout",
          "output_type": "stream",
          "text": [
            "Файлы в /content/: ['.config', 'Data.zip', 'ДЗ по Uplift обновленное', 'sample_data']\n",
            "Файлы в папке 'ДЗ по Uplift обновленное': ['CAMPAINGS.csv', 'AGGS_FINAL.csv', 'PEOPLE_IN_CAMPAINGS_FINAL.csv', 'CONTRACTS_FINAL.csv']\n"
          ]
        }
      ],
      "source": [
        "import os\n",
        "\n",
        "print(\"Файлы в /content/:\", os.listdir(\"/content/\"))\n",
        "\n",
        "if \"ДЗ по Uplift обновленное\" in os.listdir(\"/content/\"):\n",
        "    print(\"Файлы в папке 'ДЗ по Uplift обновленное':\", os.listdir(\"/content/ДЗ по Uplift обновленное/\"))"
      ]
    },
    {
      "cell_type": "code",
      "execution_count": null,
      "metadata": {
        "colab": {
          "base_uri": "https://localhost:8080/"
        },
        "id": "oPa4XRte3_58",
        "outputId": "26d3a6b7-6f11-4050-fae3-7ffb6895ea5c"
      },
      "outputs": [
        {
          "name": "stdout",
          "output_type": "stream",
          "text": [
            "Features:\n",
            "   Unnamed: 0        x1        x2        x3        x4        x5        x6  \\\n",
            "0      104548  0.654343 -1.439286 -0.011475  2.039457  0.843580 -0.977480   \n",
            "1       38396  2.583579  1.755569  3.360186 -1.122864  0.034201 -0.269607   \n",
            "2      227077  0.296030 -0.937075  1.073280  1.874636 -0.981216 -1.100187   \n",
            "3      304649  2.329328 -1.345159  0.345066  0.755373 -0.082842  0.028439   \n",
            "4      239518  0.167643  1.587099  0.165357  0.289758 -1.108840 -1.501819   \n",
            "\n",
            "         x7        x8        x9   report_dt  user_id  age    city  \n",
            "0 -0.768019 -1.044127  0.025673  2025-01-31  1066338   26     Ufa  \n",
            "1 -1.503646  1.040289 -1.691606  2024-11-30    13900   35     Ufa  \n",
            "2 -0.331181 -1.575637  0.474965  2025-03-31  4063636   28     Ufa  \n",
            "3  0.919211  0.808793 -0.560004  2025-03-31  1025488   27  Moscow  \n",
            "4  0.615588  1.631203 -0.208419  2025-02-28  4040555   37  Moscow  \n",
            "\n",
            "Contracts:\n",
            "   Unnamed: 0  user_id contract_date  product_id              contract_id\n",
            "0       39735  4008279    2024-11-03           1  0001_2024-11-03_4008279\n",
            "1       44062  2079035    2024-11-08           1  0001_2024-11-08_2079035\n",
            "2        9286   103088    2024-11-13           1   0001_2024-11-13_103088\n",
            "3       45573  2026788    2024-11-02           1  0001_2024-11-02_2026788\n",
            "4      150378    52269    2024-11-17           1    0001_2024-11-17_52269\n",
            "\n",
            "Campaigns:\n",
            "   Unnamed: 0 campaing_id  product_id    channel\n",
            "0           0       iddqd           1       push\n",
            "1           1      idclip           1        sms\n",
            "2           2        iddt           1     banner\n",
            "3           3       idkfa           1  other_ads\n",
            "\n",
            "People in Campaigns:\n",
            "   Unnamed: 0 campaing_id  user_id  t_flag delivery_date\n",
            "0       29299      idclip  1099975       1    2024-11-06\n",
            "1       36627       iddqd     1162       1    2024-11-08\n",
            "2      134015       iddqd    42991       1    2024-11-07\n",
            "3       57441      idclip   142343       0       unknown\n",
            "4       48671       iddqd    24623       0       unknown\n"
          ]
        }
      ],
      "source": [
        "import pandas as pd\n",
        "\n",
        "features = pd.read_csv('/content/ДЗ по Uplift обновленное/AGGS_FINAL.csv')\n",
        "contracts = pd.read_csv('/content/ДЗ по Uplift обновленное/CONTRACTS_FINAL.csv')\n",
        "campaigns = pd.read_csv('/content/ДЗ по Uplift обновленное/CAMPAINGS.csv')\n",
        "people_in_campaigns = pd.read_csv('/content/ДЗ по Uplift обновленное/PEOPLE_IN_CAMPAINGS_FINAL.csv')\n",
        "\n",
        "print(\"Features:\")\n",
        "print(features.head())\n",
        "\n",
        "print(\"\\nContracts:\")\n",
        "print(contracts.head())\n",
        "\n",
        "print(\"\\nCampaigns:\")\n",
        "print(campaigns.head())\n",
        "\n",
        "print(\"\\nPeople in Campaigns:\")\n",
        "print(people_in_campaigns.head())"
      ]
    },
    {
      "cell_type": "code",
      "execution_count": null,
      "metadata": {
        "id": "CiIhTz70wDiT"
      },
      "outputs": [],
      "source": [
        "contracts['contract_date'] = pd.to_datetime(contracts['contract_date'], errors='coerce')\n",
        "people_in_campaigns['delivery_date'] = pd.to_datetime(people_in_campaigns['delivery_date'], errors='coerce')"
      ]
    },
    {
      "cell_type": "code",
      "execution_count": null,
      "metadata": {
        "colab": {
          "base_uri": "https://localhost:8080/"
        },
        "id": "oItPduBHynvi",
        "outputId": "4b16eb2b-cf31-40d7-857a-f0571cd9a411"
      },
      "outputs": [
        {
          "name": "stdout",
          "output_type": "stream",
          "text": [
            "   user_id campaing_id  t_flag delivery_date  target\n",
            "0  1099975      idclip       1    2024-11-06       1\n",
            "1     1162       iddqd       1    2024-11-08       1\n",
            "2    42991       iddqd       1    2024-11-07       0\n",
            "3   142343      idclip       0           NaT       1\n",
            "4    24623       iddqd       0           NaT       0\n"
          ]
        }
      ],
      "source": [
        "contracts['contract_date'] = pd.to_datetime(contracts['contract_date'], errors='coerce')\n",
        "people_in_campaigns['delivery_date'] = pd.to_datetime(people_in_campaigns['delivery_date'], errors='coerce')\n",
        "\n",
        "control_group = people_in_campaigns['t_flag'] == 0\n",
        "people_in_campaigns.loc[control_group, 'start_date'] = pd.to_datetime('2024-11-01')\n",
        "people_in_campaigns.loc[control_group, 'end_date'] = pd.to_datetime('2024-11-01') + pd.Timedelta(days=21)\n",
        "\n",
        "treatment_group = people_in_campaigns['t_flag'] == 1\n",
        "people_in_campaigns.loc[treatment_group, 'start_date'] = people_in_campaigns['delivery_date']\n",
        "people_in_campaigns.loc[treatment_group, 'end_date'] = people_in_campaigns['delivery_date'] + pd.Timedelta(days=14)\n",
        "\n",
        "contracts_filtered = contracts[contracts['product_id'] == 1] \n",
        "\n",
        "merged = people_in_campaigns.merge(\n",
        "    contracts_filtered[['user_id', 'contract_date']],\n",
        "    on='user_id',\n",
        "    how='left'\n",
        ")\n",
        "\n",
        "merged['target'] = (merged['contract_date'] >= merged['start_date']) & (merged['contract_date'] <= merged['end_date'])\n",
        "merged['target'] = merged['target'].astype(int)1\n",
        "\n",
        "people_in_campaigns = merged[['user_id', 'campaing_id', 't_flag', 'delivery_date', 'target']]\n",
        "\n",
        "print(people_in_campaigns.head())"
      ]
    },
    {
      "cell_type": "code",
      "execution_count": null,
      "metadata": {
        "colab": {
          "base_uri": "https://localhost:8080/"
        },
        "id": "uCkY0m8NztY8",
        "outputId": "5f7499bb-0714-4b98-9537-dbb22ab66e39"
      },
      "outputs": [
        {
          "name": "stdout",
          "output_type": "stream",
          "text": [
            "Во всех кампаниях есть и контрольная, и целевая группы.\n"
          ]
        }
      ],
      "source": [
        "campaign_groups = people_in_campaigns.groupby('campaing_id')['t_flag'].nunique()\n",
        "\n",
        "invalid_campaigns = campaign_groups[campaign_groups < 2].index.tolist()\n",
        "\n",
        "if invalid_campaigns:\n",
        "    print(\"Эти кампании содержат только одну группу (невалидны):\", invalid_campaigns)\n",
        "else:\n",
        "    print(\"Во всех кампаниях есть и контрольная, и целевая группы.\")"
      ]
    },
    {
      "cell_type": "code",
      "execution_count": null,
      "metadata": {
        "colab": {
          "base_uri": "https://localhost:8080/"
        },
        "id": "bf-g3q2x0ZDB",
        "outputId": "54403602-38c1-443c-8aec-103a9356c218"
      },
      "outputs": [
        {
          "name": "stdout",
          "output_type": "stream",
          "text": [
            "Все кампании имеют достаточно данных.\n"
          ]
        }
      ],
      "source": [
        "campaign_counts = people_in_campaigns['campaing_id'].value_counts()\n",
        "\n",
        "low_data_campaigns = campaign_counts[campaign_counts < 100].index.tolist()\n",
        "\n",
        "if low_data_campaigns:\n",
        "    print(\"Эти кампании имеют слишком мало данных:\", low_data_campaigns)\n",
        "else:\n",
        "    print(\"Все кампании имеют достаточно данных.\")"
      ]
    },
    {
      "cell_type": "code",
      "execution_count": null,
      "metadata": {
        "colab": {
          "base_uri": "https://localhost:8080/"
        },
        "id": "XBJuNDhI0bk4",
        "outputId": "dc4930fb-e811-4ef6-ed2a-98e9584a708d"
      },
      "outputs": [
        {
          "name": "stdout",
          "output_type": "stream",
          "text": [
            "Все кампании выглядят нормально.\n"
          ]
        }
      ],
      "source": [
        "campaign_target_ratios = people_in_campaigns.groupby('campaing_id')['target'].mean()\n",
        "\n",
        "threshold = 0.05 \n",
        "suspicious_campaigns = campaign_target_ratios[\n",
        "    (campaign_target_ratios < threshold) | (campaign_target_ratios > (1 - threshold))\n",
        "].index.tolist()\n",
        "\n",
        "if suspicious_campaigns:\n",
        "    print(\"Эти кампании выглядят странно (почти все target = 0 или 1):\", suspicious_campaigns)\n",
        "else:\n",
        "    print(\"Все кампании выглядят нормально.\")"
      ]
    },
    {
      "cell_type": "code",
      "execution_count": null,
      "metadata": {
        "colab": {
          "base_uri": "https://localhost:8080/"
        },
        "id": "yn7CpO0Xy3D8",
        "outputId": "fa603e3f-ec9a-4c60-f2ed-bcce14c7c405"
      },
      "outputs": [
        {
          "name": "stdout",
          "output_type": "stream",
          "text": [
            "Uplift по каналам:\n",
            "t_flag            0         1    uplift\n",
            "channel                                \n",
            "banner     0.400733  0.602717  0.201983\n",
            "other_ads  0.400733  0.602717  0.201983\n",
            "push       0.202150  0.601738  0.399588\n",
            "sms        0.684917  0.201167 -0.483750\n"
          ]
        }
      ],
      "source": [
        "people_in_campaigns = people_in_campaigns.merge(campaigns[['campaing_id', 'channel']], on='campaing_id', how='left')\n",
        "\n",
        "uplift_data = people_in_campaigns.groupby(['channel', 't_flag'])['target'].mean().unstack()\n",
        "\n",
        "uplift_data['uplift'] = uplift_data[1] - uplift_data[0]\n",
        "\n",
        "print(\"Uplift по каналам:\")\n",
        "print(uplift_data)"
      ]
    },
    {
      "cell_type": "markdown",
      "metadata": {
        "id": "3K8QT3Ml0v6a"
      },
      "source": [
        "у смс отрицательный аплифт, это не есть хорошо, надо разобраться"
      ]
    },
    {
      "cell_type": "code",
      "execution_count": null,
      "metadata": {
        "colab": {
          "base_uri": "https://localhost:8080/"
        },
        "id": "sGlrno0z01QZ",
        "outputId": "01ec0e38-289a-40b7-8d00-ef9b2e034074"
      },
      "outputs": [
        {
          "name": "stdout",
          "output_type": "stream",
          "text": [
            "Средний target по SMS:\n",
            " t_flag\n",
            "0    0.684917\n",
            "1    0.201167\n",
            "Name: target, dtype: float64\n"
          ]
        }
      ],
      "source": [
        "sms_data = people_in_campaigns[people_in_campaigns['channel'] == 'sms']\n",
        "sms_target_rates = sms_data.groupby('t_flag')['target'].mean()\n",
        "\n",
        "print(\"Средний target по SMS:\\n\", sms_target_rates)"
      ]
    },
    {
      "cell_type": "code",
      "execution_count": null,
      "metadata": {
        "colab": {
          "base_uri": "https://localhost:8080/"
        },
        "id": "bIs3PswY04cP",
        "outputId": "c069edd3-87c6-49b5-88a9-56e0ce851b64"
      },
      "outputs": [
        {
          "name": "stdout",
          "output_type": "stream",
          "text": [
            "Минимальная дата рассылки: 2024-11-04 00:00:00\n",
            "Максимальная дата рассылки: 2024-11-08 00:00:00\n"
          ]
        }
      ],
      "source": [
        "print(\"Минимальная дата рассылки:\", people_in_campaigns['delivery_date'].min())\n",
        "print(\"Максимальная дата рассылки:\", people_in_campaigns['delivery_date'].max())"
      ]
    },
    {
      "cell_type": "code",
      "execution_count": null,
      "metadata": {
        "colab": {
          "base_uri": "https://localhost:8080/"
        },
        "id": "8nxskixu1CPa",
        "outputId": "72c988a2-e7bf-4547-fe10-06cb97655529"
      },
      "outputs": [
        {
          "name": "stdout",
          "output_type": "stream",
          "text": [
            "Распределение пользователей по городам:\n",
            " user_id\n",
            "Smolensk    189210\n",
            "Ufa         165961\n",
            "Moscow      164829\n",
            "Name: count, dtype: int64\n"
          ]
        }
      ],
      "source": [
        "features_unique = features[['user_id', 'city']].drop_duplicates(subset=['user_id'])\n",
        "\n",
        "city_distribution = people_in_campaigns['user_id'].map(features_unique.set_index('user_id')['city']).value_counts()\n",
        "\n",
        "print(\"Распределение пользователей по городам:\\n\", city_distribution)"
      ]
    },
    {
      "cell_type": "markdown",
      "metadata": {
        "id": "s1NYEnv01Qaf"
      },
      "source": [
        "средний таргет для контрольной группы выше чем у тех кто получил смс, делаем вывод что смс сломана"
      ]
    },
    {
      "cell_type": "code",
      "execution_count": null,
      "metadata": {
        "colab": {
          "base_uri": "https://localhost:8080/"
        },
        "id": "xGYAU9kw1agU",
        "outputId": "cd1159ee-9a2d-40aa-d405-7768d991c757"
      },
      "outputs": [
        {
          "name": "stdout",
          "output_type": "stream",
          "text": [
            "Оставшиеся каналы после очистки: ['push' 'banner' 'other_ads']\n"
          ]
        }
      ],
      "source": [
        "people_in_campaigns_cleaned = people_in_campaigns[people_in_campaigns['channel'] != 'sms']\n",
        "\n",
        "print(\"Оставшиеся каналы после очистки:\", people_in_campaigns_cleaned['channel'].unique())"
      ]
    },
    {
      "cell_type": "code",
      "execution_count": null,
      "metadata": {
        "colab": {
          "base_uri": "https://localhost:8080/"
        },
        "id": "9KNd_wzu2Ns3",
        "outputId": "86c90dd1-654a-40e8-fbae-ee724663424f"
      },
      "outputs": [
        {
          "name": "stdout",
          "output_type": "stream",
          "text": [
            "Обновленный Uplift по каналам (без SMS):\n",
            "t_flag            0         1    uplift\n",
            "channel                                \n",
            "banner     0.400733  0.602717  0.201983\n",
            "other_ads  0.400733  0.602717  0.201983\n",
            "push       0.202150  0.601738  0.399588\n"
          ]
        }
      ],
      "source": [
        "uplift_data_cleaned = people_in_campaigns_cleaned.groupby(['channel', 't_flag'])['target'].mean().unstack()\n",
        "uplift_data_cleaned['uplift'] = uplift_data_cleaned[1] - uplift_data_cleaned[0]\n",
        "\n",
        "print(\"Обновленный Uplift по каналам (без SMS):\")\n",
        "print(uplift_data_cleaned)\n"
      ]
    },
    {
      "cell_type": "markdown",
      "metadata": {
        "id": "b9Wtw00t4A_k"
      },
      "source": [
        "### ваши выводы здесь"
      ]
    },
    {
      "cell_type": "markdown",
      "metadata": {
        "id": "Es_paHiL25YF"
      },
      "source": [
        "<h2> 2. Клиентские агрегаты (12 баллов)</h2>\n",
        "\n",
        "Присоедините клиентские агрегаты (будьте внимательны, присоедините агрегаты за корректный месяц) и изучите полученные данные."
      ]
    },
    {
      "cell_type": "markdown",
      "metadata": {
        "id": "Mi5DjQXfKv0n"
      },
      "source": [
        "**Комментарий по заданиям и оцениванию:**\n",
        "\n",
        "* Вы должны корректно присоединить клиентские агрегаты со смещением на два месяца, чтобы не было лика таргета. За данное действие можно получить **4 балла**\n",
        "\n",
        "* Далее вы должен сделать UPLIFT EDA, которые обсуждались на лекции и показывались в практических ноутбуках. В ходе анализа вы должны проверить корректность данных по рекламным кампаниям и решить, что делать со \"сломанными\" кампаниями. По итогам анализа подготовьте выводы. За данное действие можно получить **8 баллов**"
      ]
    },
    {
      "cell_type": "code",
      "execution_count": null,
      "metadata": {
        "colab": {
          "base_uri": "https://localhost:8080/"
        },
        "id": "EnnTRvck4I1n",
        "outputId": "607ffdf8-8523-4e0b-e4bc-07b0141f4ad3"
      },
      "outputs": [
        {
          "name": "stderr",
          "output_type": "stream",
          "text": [
            "<ipython-input-20-df26d81869e0>:3: SettingWithCopyWarning: \n",
            "A value is trying to be set on a copy of a slice from a DataFrame.\n",
            "Try using .loc[row_indexer,col_indexer] = value instead\n",
            "\n",
            "See the caveats in the documentation: https://pandas.pydata.org/pandas-docs/stable/user_guide/indexing.html#returning-a-view-versus-a-copy\n",
            "  people_in_campaigns_cleaned['delivery_date'] = pd.to_datetime(people_in_campaigns_cleaned['delivery_date'])\n",
            "<ipython-input-20-df26d81869e0>:6: SettingWithCopyWarning: \n",
            "A value is trying to be set on a copy of a slice from a DataFrame.\n",
            "Try using .loc[row_indexer,col_indexer] = value instead\n",
            "\n",
            "See the caveats in the documentation: https://pandas.pydata.org/pandas-docs/stable/user_guide/indexing.html#returning-a-view-versus-a-copy\n",
            "  people_in_campaigns_cleaned['report_dt'] = people_in_campaigns_cleaned['delivery_date'] - pd.DateOffset(months=2)\n"
          ]
        },
        {
          "name": "stdout",
          "output_type": "stream",
          "text": [
            "Размер объединенных данных: (400000, 19)\n",
            "Количество пропусков после объединения:\n",
            " user_id               0\n",
            "campaing_id           0\n",
            "t_flag                0\n",
            "delivery_date    200000\n",
            "target                0\n",
            "channel               0\n",
            "report_dt        200000\n",
            "Unnamed: 0       400000\n",
            "x1               400000\n",
            "x2               400000\n",
            "x3               400000\n",
            "x4               400000\n",
            "x5               400000\n",
            "x6               400000\n",
            "x7               400000\n",
            "x8               400000\n",
            "x9               400000\n",
            "age              400000\n",
            "city             400000\n",
            "dtype: int64\n"
          ]
        }
      ],
      "source": [
        "features['report_dt'] = pd.to_datetime(features['report_dt'])\n",
        "people_in_campaigns_cleaned['delivery_date'] = pd.to_datetime(people_in_campaigns_cleaned['delivery_date'])\n",
        "\n",
        "people_in_campaigns_cleaned['report_dt'] = people_in_campaigns_cleaned['delivery_date'] - pd.DateOffset(months=2)\n",
        "\n",
        "data_merged = people_in_campaigns_cleaned.merge(\n",
        "    features,\n",
        "    on=['user_id', 'report_dt'],\n",
        "    how='left'\n",
        ")\n",
        "\n",
        "print(\"Размер объединенных данных:\", data_merged.shape)\n",
        "\n",
        "print(\"Количество пропусков после объединения:\\n\", data_merged.isnull().sum())\n"
      ]
    },
    {
      "cell_type": "code",
      "execution_count": null,
      "metadata": {
        "colab": {
          "base_uri": "https://localhost:8080/"
        },
        "id": "95oQ2qv42nUv",
        "outputId": "8d85ef65-457d-4048-af78-ebf534ed2fdc"
      },
      "outputs": [
        {
          "name": "stderr",
          "output_type": "stream",
          "text": [
            "<ipython-input-26-f42398d0e85b>:4: SettingWithCopyWarning: \n",
            "A value is trying to be set on a copy of a slice from a DataFrame.\n",
            "Try using .loc[row_indexer,col_indexer] = value instead\n",
            "\n",
            "See the caveats in the documentation: https://pandas.pydata.org/pandas-docs/stable/user_guide/indexing.html#returning-a-view-versus-a-copy\n",
            "  people_in_campaigns_cleaned['delivery_date'] = pd.to_datetime(people_in_campaigns_cleaned['delivery_date'])\n",
            "<ipython-input-26-f42398d0e85b>:15: SettingWithCopyWarning: \n",
            "A value is trying to be set on a copy of a slice from a DataFrame.\n",
            "Try using .loc[row_indexer,col_indexer] = value instead\n",
            "\n",
            "See the caveats in the documentation: https://pandas.pydata.org/pandas-docs/stable/user_guide/indexing.html#returning-a-view-versus-a-copy\n",
            "  people_in_campaigns_cleaned['report_dt'] = pd.to_datetime(people_in_campaigns_cleaned['report_dt'])\n"
          ]
        },
        {
          "name": "stdout",
          "output_type": "stream",
          "text": [
            "Пропуски после объединения:\n",
            " user_id               0\n",
            "campaing_id           0\n",
            "t_flag                0\n",
            "delivery_date    200000\n",
            "target                0\n",
            "channel               0\n",
            "report_dt             0\n",
            "Unnamed: 0       200000\n",
            "x1               200000\n",
            "x2               200000\n",
            "x3               200000\n",
            "x4               200000\n",
            "x5               200000\n",
            "x6               200000\n",
            "x7               200000\n",
            "x8               200000\n",
            "x9               200000\n",
            "age              200000\n",
            "city             200000\n",
            "dtype: int64\n"
          ]
        }
      ],
      "source": [
        "import numpy as np\n",
        "\n",
        "people_in_campaigns_cleaned['delivery_date'] = pd.to_datetime(people_in_campaigns_cleaned['delivery_date'])\n",
        "\n",
        "people_in_campaigns_cleaned.loc[people_in_campaigns_cleaned['delivery_date'].notna(), 'report_dt'] = (\n",
        "    people_in_campaigns_cleaned['delivery_date'] - pd.DateOffset(months=2)\n",
        ").dt.to_period('M').dt.to_timestamp(how='end')\n",
        "\n",
        "people_in_campaigns_cleaned.loc[people_in_campaigns_cleaned['delivery_date'].isna(), 'report_dt'] = pd.Timestamp('2024-09-30')\n",
        "\n",
        "people_in_campaigns_cleaned['report_dt'] = pd.to_datetime(people_in_campaigns_cleaned['report_dt'])\n",
        "\n",
        "data_merged = people_in_campaigns_cleaned.merge(\n",
        "    features,\n",
        "    on=['user_id', 'report_dt'],\n",
        "    how='left'\n",
        ")\n",
        "\n",
        "print(\"Пропуски после объединения:\\n\", data_merged.isnull().sum())\n"
      ]
    },
    {
      "cell_type": "code",
      "execution_count": null,
      "metadata": {
        "colab": {
          "base_uri": "https://localhost:8080/"
        },
        "id": "cD4PXA5m4AfQ",
        "outputId": "3ffb4a3b-b3b5-4cfe-a202-2439c2cf0a2f"
      },
      "outputs": [
        {
          "name": "stdout",
          "output_type": "stream",
          "text": [
            "Размер очищенных данных: (200000, 19)\n",
            "Пропуски после удаления пустых строк:\n",
            " user_id               0\n",
            "campaing_id           0\n",
            "t_flag                0\n",
            "delivery_date    200000\n",
            "target                0\n",
            "channel               0\n",
            "report_dt             0\n",
            "Unnamed: 0            0\n",
            "x1                    0\n",
            "x2                    0\n",
            "x3                    0\n",
            "x4                    0\n",
            "x5                    0\n",
            "x6                    0\n",
            "x7                    0\n",
            "x8                    0\n",
            "x9                    0\n",
            "age                   0\n",
            "city                  0\n",
            "dtype: int64\n"
          ]
        }
      ],
      "source": [
        "data_cleaned = data_merged.dropna(subset=['x1', 'x2', 'x3', 'x4', 'x5', 'x6', 'x7', 'x8', 'x9', 'age', 'city'])\n",
        "\n",
        "print(\"Размер очищенных данных:\", data_cleaned.shape)\n",
        "\n",
        "print(\"Пропуски после удаления пустых строк:\\n\", data_cleaned.isnull().sum())\n"
      ]
    },
    {
      "cell_type": "code",
      "execution_count": null,
      "metadata": {
        "id": "0wSitMcr4Sqr"
      },
      "outputs": [],
      "source": []
    },
    {
      "cell_type": "markdown",
      "metadata": {
        "id": "pp5bzCfq5AKs"
      },
      "source": [
        "### ваши выводы здесь"
      ]
    },
    {
      "cell_type": "markdown",
      "metadata": {
        "id": "UhrSiFL325YF"
      },
      "source": [
        "<h2> 3. Построение моделей и оценка их качества (14 баллов)</h2>\n",
        "\n",
        "Постройте Uplift модели по собранным кампаниям, проведите тюнинг гиперпараметров и оцените их качество (qini score). Для каждой модели также постройте qini-curve."
      ]
    },
    {
      "cell_type": "markdown",
      "metadata": {
        "id": "IG98Ll0W25YF"
      },
      "source": [
        "<h2>4. Подготовка ответа в требуемом формате и подготовка выводов (6 баллов)</h2>\n",
        "\n",
        "a) Сделайте скоринг нужных клиентов, подготовьте ответ в требуемом формате\n",
        "\n",
        "б) Сделайте краткую аналитику того, какой канал взаимодействия наиболее предпочтителен\n",
        "\n",
        "в) Сделайте выводы по проделанной работе"
      ]
    },
    {
      "cell_type": "markdown",
      "metadata": {
        "id": "I1SQE2JRMNsA"
      },
      "source": [
        "**Комментарий по заданиям и оцениванию:**\n",
        "\n",
        "* Подготовлен только ответ - **1 балл**\n",
        "* Подготовлен содержательный вывод по проделанной работе - **4 балла**\n",
        "* Корректно принято решение об отправке/не отправке коммуникации клиентам в зависимости от значений Uplift - **1 балл**"
      ]
    },
    {
      "cell_type": "code",
      "execution_count": 18,
      "metadata": {
        "id": "0HmitRRX4nVY"
      },
      "outputs": [],
      "source": [
        "# ваш код здесь"
      ]
    },
    {
      "cell_type": "markdown",
      "metadata": {
        "id": "LGavtbmn4oj1"
      },
      "source": [
        "### ваши выводы здесь"
      ]
    }
  ],
  "metadata": {
    "colab": {
      "provenance": []
    },
    "kernelspec": {
      "display_name": "Python 3",
      "name": "python3"
    },
    "language_info": {
      "name": "python"
    }
  },
  "nbformat": 4,
  "nbformat_minor": 0
}
